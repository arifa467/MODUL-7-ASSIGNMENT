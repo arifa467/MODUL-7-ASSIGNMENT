{
  "nbformat": 4,
  "nbformat_minor": 0,
  "metadata": {
    "colab": {
      "provenance": []
    },
    "kernelspec": {
      "name": "python3",
      "display_name": "Python 3"
    },
    "language_info": {
      "name": "python"
    }
  },
  "cells": [
    {
      "cell_type": "markdown",
      "source": [
        "1. What is the difference between interpreted and compiled languages?\n",
        "Answer:\n",
        "\n",
        "Interpreted languages execute the code line by line using an interpreter (e.g., Python, JavaScript).\n",
        "\n",
        "Compiled languages are translated into machine code by a compiler before execution (e.g., C, C++).\n",
        "\n",
        "Interpreted languages are easier to debug and are platform-independent but generally slower. Compiled languages are faster but require recompilation after changes.\n",
        "\n",
        "2. What is exception handling in Python?\n",
        "Answer:\n",
        "Exception handling in Python is a technique used to handle errors during program execution without crashing the program.\n",
        "It uses the following blocks:\n",
        "\n",
        "try: contains code that may raise an exception\n",
        "\n",
        "except: handles the exception if one occurs\n",
        "\n",
        "else: runs if no exception occurs\n",
        "\n",
        "finally: always runs, used for clean-up actions\n",
        "\n",
        "3. What is the purpose of the finally block in exception handling?\n",
        "Answer:\n",
        "The finally block is used to write code that should run no matter what—whether an exception occurs or not.\n",
        "It is commonly used to release resources like closing files or database connections, even if an error happens.\n",
        "\n",
        "4. What is logging in Python?\n",
        "Answer:\n",
        "Logging is the process of recording messages that describe the flow or state of a program, useful for debugging and monitoring.\n",
        "Python has a built-in logging module that provides functions to log messages at different levels like:\n",
        "\n",
        "DEBUG\n",
        "\n",
        "INFO\n",
        "\n",
        "WARNING\n",
        "\n",
        "ERROR\n",
        "\n",
        "CRITICAL\n",
        "\n",
        "5. What is the significance of the __del__ method in Python?\n",
        "Answer:\n",
        "The __del__ method is a special method called a destructor. It is automatically invoked when an object is about to be destroyed.\n",
        "It’s used to clean up resources (e.g., closing files or releasing memory) before the object is removed from memory by the garbage collector.\n",
        "\n",
        "6. What is the difference between import and from ... import in Python?\n",
        "Answer:\n",
        "\n",
        "import module_name: imports the entire module. You need to use module_name.function_name to access functions.\n",
        "Example:\n",
        "\n",
        "\n",
        "import math  \n",
        "print(math.sqrt(16))\n",
        "from module_name import function_name: imports only specific items from the module, so you can use them directly.\n",
        "Example:\n",
        "\n",
        "\n",
        "from math import sqrt  \n",
        "print(sqrt(16))\n",
        "7. How can you handle multiple exceptions in Python?\n",
        "Answer:\n",
        "You can handle multiple exceptions using multiple except blocks or by grouping exceptions in a tuple:\n",
        "\n",
        "Multiple except blocks:\n",
        "\n",
        "\n",
        "try:  \n",
        "    # code  \n",
        "except ValueError:  \n",
        "    # handle ValueError  \n",
        "except ZeroDivisionError:  \n",
        "    # handle ZeroDivisionError  \n",
        "Single block with a tuple:\n",
        "\n",
        "python\n",
        "Copy\n",
        "Edit\n",
        "try:  \n",
        "    # code  \n",
        "except (ValueError, ZeroDivisionError):  \n",
        "    # handle both exceptions  \n",
        "8. What is the purpose of the with statement when handling files in Python?\n",
        "Answer:\n",
        "The with statement is used for resource management, especially with files. It ensures that the file is properly closed after its suite finishes, even if an error occurs.\n",
        "Example:\n",
        "\n",
        "\n",
        "with open('file.txt', 'r') as f:  \n",
        "    data = f.read()  \n",
        "# No need to call f.close()\n",
        "9. What is the difference between multithreading and multiprocessing?\n",
        "Answer:\n",
        "\n",
        "Multithreading: Multiple threads run in the same process and share memory. It’s useful for I/O-bound tasks.\n",
        "\n",
        "Multiprocessing: Multiple processes run separately, each with its own memory. It’s better for CPU-bound tasks.\n",
        "Multithreading is lighter but can be limited by the Global Interpreter Lock (GIL) in Python. Multiprocessing avoids this but uses more system resources.\n",
        "\n",
        "10. What are the advantages of using logging in a program?\n",
        "Answer:\n",
        "\n",
        "Helps in tracking events, errors, and the flow of execution\n",
        "\n",
        "Useful for debugging and monitoring in production\n",
        "\n",
        "Allows different logging levels (DEBUG, INFO, WARNING, ERROR, CRITICAL)\n",
        "\n",
        "Stores logs in files or displays them on the console\n",
        "\n",
        "11. What is memory management in Python?\n",
        "Answer:\n",
        "Memory management in Python involves:\n",
        "\n",
        "Automatic garbage collection using reference counting and a cyclic garbage collector\n",
        "\n",
        "Private heap space: All Python objects and data structures are stored in a private heap\n",
        "\n",
        "Memory management tools like gc module to control garbage collection\n",
        "\n",
        "12. What are the basic steps involved in exception handling in Python?\n",
        "Answer:\n",
        "\n",
        "try block: write code that might raise an exception\n",
        "\n",
        "except block: catch and handle the exception\n",
        "\n",
        "else block (optional): executes if no exception occurs\n",
        "\n",
        "finally block (optional): runs always, used for clean-up actions\n",
        "\n",
        "Example:\n",
        "\n",
        "\n",
        "try:  \n",
        "    x = 10 / 0  \n",
        "except ZeroDivisionError:  \n",
        "    print(\"Cannot divide by zero\")  \n",
        "else:  \n",
        "    print(\"No error occurred\")  \n",
        "finally:  \n",
        "    print(\"This will always execute\")\n",
        "\n",
        "13. Why is memory management important in Python?\n",
        "Answer:\n",
        "Memory management is important in Python to:\n",
        "\n",
        "Avoid memory leaks and crashes\n",
        "\n",
        "Ensure efficient use of system resources\n",
        "\n",
        "Automatically manage memory through garbage collection\n",
        "\n",
        "Provide a stable and predictable program performance\n",
        "\n",
        "14. What is the role of try and except in exception handling?\n",
        "Answer:\n",
        "\n",
        "The try block contains code that might raise an exception.\n",
        "\n",
        "The except block catches the exception and lets the program handle it without crashing.\n",
        "This structure allows the program to continue running smoothly even if an error occurs.\n",
        "\n",
        "15. How does Python's garbage collection system work?\n",
        "Answer:\n",
        "Python uses:\n",
        "\n",
        "Reference counting: Every object keeps track of how many references point to it. When the count reaches zero, the object is deleted.\n",
        "\n",
        "Cyclic garbage collector: Detects and deletes groups of objects that reference each other but are no longer in use.\n",
        "The gc module allows manual control of garbage collection.\n",
        "\n",
        "16. What is the purpose of the else block in exception handling?\n",
        "Answer:\n",
        "The else block runs only if no exception occurs in the try block.\n",
        "It is used when you want to run some code only after successful execution of the try block, and not during error handling.\n",
        "\n",
        "17. What are the common logging levels in Python?\n",
        "Answer:\n",
        "Python’s logging module defines five standard logging levels:\n",
        "\n",
        "DEBUG: Detailed information, useful for diagnosing problems\n",
        "\n",
        "INFO: General events confirming the program is working\n",
        "\n",
        "WARNING: Something unexpected, but the program continues\n",
        "\n",
        "ERROR: A serious issue, the program may not work as expected\n",
        "\n",
        "CRITICAL: A very serious error, the program might stop\n",
        "\n",
        "18. What is the difference between os.fork() and multiprocessing in Python?\n",
        "Answer:\n",
        "\n",
        "os.fork() (Unix only): Creates a new child process by duplicating the current process. It’s low-level and less portable.\n",
        "\n",
        "multiprocessing: High-level module that works on all platforms and provides a simpler API to run multiple processes with separate memory space.\n",
        "multiprocessing is more flexible and recommended for most Python programs.\n",
        "\n",
        "19. What is the importance of closing a file in Python?\n",
        "Answer:\n",
        "Closing a file:\n",
        "\n",
        "Frees up system resources\n",
        "\n",
        "Ensures data is properly written and saved\n",
        "\n",
        "Prevents memory leaks and file corruption\n",
        "Using file.close() or a with block helps ensure the file is closed properly.\n",
        "\n",
        "20. What is the difference between file.read() and file.readline() in Python?\n",
        "Answer:\n",
        "\n",
        "file.read(): Reads the entire file as a single string\n",
        "\n",
        "file.readline(): Reads just one line from the file\n",
        "Use read() when you want the whole file at once and readline() when reading line-by-line.\n",
        "\n",
        "21. What is the logging module in Python used for?\n",
        "Answer:\n",
        "The logging module is used to:\n",
        "\n",
        "Record events, errors, and debug messages\n",
        "\n",
        "Track the flow of a program\n",
        "\n",
        "Log messages to the console or a file\n",
        "\n",
        "Set different severity levels for logs (DEBUG to CRITICAL)\n",
        "\n",
        "22. What is the os module in Python used for in file handling?\n",
        "Answer:\n",
        "The os module provides functions to interact with the operating system, especially for file handling, such as:\n",
        "\n",
        "Creating or removing directories\n",
        "\n",
        "Navigating file paths (os.path)\n",
        "\n",
        "Listing files (os.listdir())\n",
        "\n",
        "Checking if a file exists or not\n",
        "It allows platform-independent file and folder operations.\n",
        "\n",
        "\n",
        "23. What are the challenges associated with memory management in Python?\n",
        "Answer:\n",
        "Some challenges with memory management in Python include:\n",
        "\n",
        "Reference cycles: Objects referencing each other can create cycles that reference counting alone can’t handle.\n",
        "\n",
        "Memory leaks: Poor code practices can lead to unintentional memory not being released.\n",
        "\n",
        "Global Interpreter Lock (GIL): Limits true multithreading, affecting performance in CPU-bound tasks.\n",
        "\n",
        "Manual control limitations: Python automates memory management, but this can sometimes reduce fine-grained control.\n",
        "\n",
        "24. How do you raise an exception manually in Python?\n",
        "Answer:\n",
        "You can raise an exception manually using the raise keyword.\n",
        "Example:\n",
        "\n",
        "raise ValueError(\"Invalid input\")\n",
        "You can raise built-in exceptions or define and raise custom exceptions.\n",
        "\n",
        "25. Why is it important to use multithreading in certain applications?\n",
        "Answer:\n",
        "Multithreading is important in applications that involve:\n",
        "\n",
        "I/O-bound tasks (like file reading/writing, network operations)\n",
        "\n",
        "Concurrency needs where multiple operations need to run \"simultaneously\"\n",
        "\n",
        "Improved responsiveness, especially in GUI applications\n",
        "It allows better utilization of time while waiting for slower tasks like network or disk access.\n",
        "\n",
        "\n",
        "\n",
        "\n",
        "\n",
        "\n",
        "\n",
        "\n",
        "\n",
        "\n",
        "\n",
        "\n",
        "\n",
        "\n",
        "\n"
      ],
      "metadata": {
        "id": "1lMB4cSuOgju"
      }
    },
    {
      "cell_type": "markdown",
      "source": [
        "## **PRACTICAL QUESTIONS**"
      ],
      "metadata": {
        "id": "2jh6mYyZQHks"
      }
    },
    {
      "cell_type": "markdown",
      "source": [
        "1. How can you open a file for writing in Python and write a string to it?\n",
        "\n",
        "\n",
        "Answer:\n",
        "You can use the open() function with mode \"w\" to write to a file.\n",
        "Example:"
      ],
      "metadata": {
        "id": "x77VjRDOQqJt"
      }
    },
    {
      "cell_type": "code",
      "source": [
        "with open(\"example.txt\", \"w\") as f:\n",
        "    f.write(\"Hello, this is a test.\")\n"
      ],
      "metadata": {
        "id": "Nnx1MYGCQwaG"
      },
      "execution_count": null,
      "outputs": []
    },
    {
      "cell_type": "markdown",
      "source": [
        "2. Write a Python program to read the contents of a file and print each line.\n",
        "\n",
        "Answer:"
      ],
      "metadata": {
        "id": "enKG2mIBQ7d2"
      }
    },
    {
      "cell_type": "code",
      "source": [
        "\n",
        "with open(\"example.txt\", \"r\") as f:\n",
        "    for line in f:\n",
        "        print(line.strip())\n"
      ],
      "metadata": {
        "id": "sbfHfzqaQ_LV"
      },
      "execution_count": null,
      "outputs": []
    },
    {
      "cell_type": "markdown",
      "source": [
        "3. How would you handle a case where the file doesn't exist while trying to open it for reading?\n",
        "\n",
        "\n",
        "Answer:\n",
        "Use a try-except block to catch the FileNotFoundError.\n",
        "Example:"
      ],
      "metadata": {
        "id": "A39GR7dXREry"
      }
    },
    {
      "cell_type": "code",
      "source": [
        "try:\n",
        "    with open(\"nonexistent.txt\", \"r\") as f:\n",
        "        print(f.read())\n",
        "except FileNotFoundError:\n",
        "    print(\"File not found.\")\n"
      ],
      "metadata": {
        "id": "mJuLwYOpRHIp"
      },
      "execution_count": null,
      "outputs": []
    },
    {
      "cell_type": "markdown",
      "source": [
        "4. Write a Python script that reads from one file and writes its content to another file.\n",
        "\n",
        "Answer:"
      ],
      "metadata": {
        "id": "W2tjN2jbRO9P"
      }
    },
    {
      "cell_type": "code",
      "source": [
        "\n",
        "with open(\"source.txt\", \"r\") as src, open(\"destination.txt\", \"w\") as dest:\n",
        "    for line in src:\n",
        "        dest.write(line)\n"
      ],
      "metadata": {
        "id": "JQIKsSKyRPzk"
      },
      "execution_count": null,
      "outputs": []
    },
    {
      "cell_type": "markdown",
      "source": [
        "5. How would you catch and handle a division by zero error in Python?\n",
        "\n",
        "\n",
        "Answer:\n",
        "Use a try-except block with ZeroDivisionError.\n",
        "\n",
        "\n",
        "Example:"
      ],
      "metadata": {
        "id": "3E0UJ7BJRZVh"
      }
    },
    {
      "cell_type": "code",
      "source": [
        "try:\n",
        "    result = 10 / 0\n",
        "except ZeroDivisionError:\n",
        "    print(\"You can't divide by zero!\")\n"
      ],
      "metadata": {
        "id": "WeKLARwzRepA"
      },
      "execution_count": null,
      "outputs": []
    },
    {
      "cell_type": "markdown",
      "source": [
        "6. Write a Python program that logs an error message to a log file when a division by zero exception occurs.\n",
        "\n",
        "\n",
        "Answer:"
      ],
      "metadata": {
        "id": "y0f_SF2SRkOx"
      }
    },
    {
      "cell_type": "code",
      "source": [
        "import logging\n",
        "logging.basicConfig(filename=\"error.log\", level=logging.ERROR)\n",
        "\n",
        "try:\n",
        "    x = 1 / 0\n",
        "except ZeroDivisionError:\n",
        "    logging.error(\"Division by zero occurred\")\n"
      ],
      "metadata": {
        "id": "Xm3wRz8gRn22"
      },
      "execution_count": null,
      "outputs": []
    },
    {
      "cell_type": "markdown",
      "source": [
        "7. How do you log information at different levels (INFO, ERROR, WARNING) in Python using the logging module?\n",
        "\n",
        "\n",
        "Answer:\n",
        "\n",
        "\n",
        "Example:"
      ],
      "metadata": {
        "id": "o8UxK0MgRu1M"
      }
    },
    {
      "cell_type": "code",
      "source": [
        "import logging\n",
        "logging.basicConfig(level=logging.DEBUG)\n",
        "\n",
        "logging.info(\"This is an info message\")\n",
        "logging.warning(\"This is a warning\")\n",
        "logging.error(\"This is an error\")\n"
      ],
      "metadata": {
        "id": "phSRGGwlRz89"
      },
      "execution_count": null,
      "outputs": []
    },
    {
      "cell_type": "markdown",
      "source": [
        "8. Write a program to handle a file opening error using exception handling.\n",
        "\n",
        "\n",
        "Answer:"
      ],
      "metadata": {
        "id": "5i_MRv0BR453"
      }
    },
    {
      "cell_type": "code",
      "source": [
        "try:\n",
        "    with open(\"data.txt\", \"r\") as f:\n",
        "        content = f.read()\n",
        "except FileNotFoundError:\n",
        "    print(\"The file you're trying to open does not exist.\")\n"
      ],
      "metadata": {
        "id": "MTGH7PYUR7H3"
      },
      "execution_count": null,
      "outputs": []
    },
    {
      "cell_type": "markdown",
      "source": [
        "9. How can you read a file line by line and store its content in a list in Python?\n",
        "\n",
        "\n",
        "Answer:"
      ],
      "metadata": {
        "id": "7zGqnRFgR-Jh"
      }
    },
    {
      "cell_type": "code",
      "source": [
        "with open(\"example.txt\", \"r\") as f:\n",
        "    lines = f.readlines()\n",
        "\n",
        "print(lines)\n"
      ],
      "metadata": {
        "id": "f47ZjoigSFAx"
      },
      "execution_count": null,
      "outputs": []
    },
    {
      "cell_type": "markdown",
      "source": [
        "10. How can you append data to an existing file in Python?\n",
        "\n",
        "\n",
        "Answer:\n",
        "Use the \"a\" mode in open() to append data."
      ],
      "metadata": {
        "id": "g3Q7DyCRSJzi"
      }
    },
    {
      "cell_type": "code",
      "source": [
        "with open(\"example.txt\", \"a\") as f:\n",
        "    f.write(\"\\nThis is new appended data.\")\n"
      ],
      "metadata": {
        "id": "_bmVze1ySM6Z"
      },
      "execution_count": null,
      "outputs": []
    },
    {
      "cell_type": "markdown",
      "source": [
        "11. Write a Python program that uses a try-except block to handle an error when attempting to access a dictionary key that doesn't exist.\n",
        "\n",
        "\n",
        "Answer:"
      ],
      "metadata": {
        "id": "hEmIJ5ZGSnrt"
      }
    },
    {
      "cell_type": "code",
      "source": [
        "my_dict = {\"name\": \"Arifa\"}\n",
        "\n",
        "try:\n",
        "    print(my_dict[\"age\"])\n",
        "except KeyError:\n",
        "    print(\"Key does not exist in the dictionary.\")\n"
      ],
      "metadata": {
        "id": "39LTuRQlS20B"
      },
      "execution_count": null,
      "outputs": []
    },
    {
      "cell_type": "markdown",
      "source": [
        "12. Write a program that demonstrates using multiple except blocks to handle different types of exceptions.\n",
        "\n",
        "\n",
        "Answer:"
      ],
      "metadata": {
        "id": "7b8bDuK6TJGa"
      }
    },
    {
      "cell_type": "code",
      "source": [
        "try:\n",
        "    num = int(\"abc\")\n",
        "    result = 10 / 0\n",
        "except ValueError:\n",
        "    print(\"ValueError: Invalid conversion to integer\")\n",
        "except ZeroDivisionError:\n",
        "    print(\"ZeroDivisionError: Cannot divide by zero\")\n"
      ],
      "metadata": {
        "id": "mah4S9GwTOtU"
      },
      "execution_count": null,
      "outputs": []
    },
    {
      "cell_type": "markdown",
      "source": [
        "13. How would you check if a file exists before attempting to read it in Python?\n",
        "\n",
        "\n",
        "Answer:"
      ],
      "metadata": {
        "id": "6g_8AYfmTRg8"
      }
    },
    {
      "cell_type": "code",
      "source": [
        "import os\n",
        "\n",
        "if os.path.exists(\"myfile.txt\"):\n",
        "    with open(\"myfile.txt\", \"r\") as f:\n",
        "        print(f.read())\n",
        "else:\n",
        "    print(\"File does not exist.\")\n"
      ],
      "metadata": {
        "id": "KgaP8Fm9TX4L"
      },
      "execution_count": null,
      "outputs": []
    },
    {
      "cell_type": "markdown",
      "source": [
        "14. Write a program that uses the logging module to log both informational and error messages.\n",
        "\n",
        "\n",
        "Answer:"
      ],
      "metadata": {
        "id": "UAqQ-4K5TdVO"
      }
    },
    {
      "cell_type": "code",
      "source": [
        "import logging\n",
        "logging.basicConfig(level=logging.INFO)\n",
        "\n",
        "logging.info(\"Program started\")\n",
        "try:\n",
        "    x = 5 / 0\n",
        "except ZeroDivisionError:\n",
        "    logging.error(\"Division by zero occurred\")\n"
      ],
      "metadata": {
        "id": "BFk48MgWTfTK"
      },
      "execution_count": null,
      "outputs": []
    },
    {
      "cell_type": "markdown",
      "source": [
        "15. Write a Python program that prints the content of a file and handles the case when the file is empty.\n",
        "\n",
        "\n",
        "Answer:"
      ],
      "metadata": {
        "id": "zn9oUpx_TjfG"
      }
    },
    {
      "cell_type": "code",
      "source": [
        "try:\n",
        "    with open(\"sample.txt\", \"r\") as f:\n",
        "        content = f.read()\n",
        "        if content:\n",
        "            print(content)\n",
        "        else:\n",
        "            print(\"The file is empty.\")\n",
        "except FileNotFoundError:\n",
        "    print(\"File not found.\")\n"
      ],
      "metadata": {
        "id": "yRWPVxZ1TrQy"
      },
      "execution_count": null,
      "outputs": []
    },
    {
      "cell_type": "markdown",
      "source": [
        "16. Demonstrate how to use memory profiling to check the memory usage of a small program\n",
        "\n",
        "\n",
        "Answer:\n",
        "You can use the memory_profiler module. Install it first using:"
      ],
      "metadata": {
        "id": "bGF2o6UPT1mT"
      }
    },
    {
      "cell_type": "code",
      "source": [
        "pip install memory-profiler\n",
        "from memory_profiler import profile\n",
        "\n",
        "@profile\n",
        "def create_list():\n",
        "    return [i for i in range(100000)]\n",
        "\n",
        "create_list()\n",
        "#Run the script using:\n",
        "\n",
        "python -m memory_profiler script.py\n"
      ],
      "metadata": {
        "id": "A-oFhQUyT7lx"
      },
      "execution_count": null,
      "outputs": []
    },
    {
      "cell_type": "markdown",
      "source": [
        "17. Write a Python program to create and write a list of numbers to a file, one number per line.\n",
        "\n",
        "\n",
        "Answer:"
      ],
      "metadata": {
        "id": "5P5-d0wRUGtx"
      }
    },
    {
      "cell_type": "code",
      "source": [
        "numbers = [1, 2, 3, 4, 5]\n",
        "\n",
        "with open(\"numbers.txt\", \"w\") as f:\n",
        "    for number in numbers:\n",
        "        f.write(f\"{number}\\n\")\n"
      ],
      "metadata": {
        "id": "YcHPF3PMUNKi"
      },
      "execution_count": null,
      "outputs": []
    },
    {
      "cell_type": "markdown",
      "source": [
        "18. How would you implement a basic logging setup that logs to a file with rotation after 1MB?\n",
        "\n",
        "\n",
        "Answer:"
      ],
      "metadata": {
        "id": "JX2Ecw1gUPvS"
      }
    },
    {
      "cell_type": "code",
      "source": [
        "import logging\n",
        "from logging.handlers import RotatingFileHandler\n",
        "\n",
        "logger = logging.getLogger(\"MyLogger\")\n",
        "logger.setLevel(logging.INFO)\n",
        "\n",
        "handler = RotatingFileHandler(\"app.log\", maxBytes=1024*1024, backupCount=3)\n",
        "logger.addHandler(handler)\n",
        "\n",
        "logger.info(\"This is an informational message.\")\n"
      ],
      "metadata": {
        "id": "7pkd8UE8UcvZ"
      },
      "execution_count": null,
      "outputs": []
    },
    {
      "cell_type": "markdown",
      "source": [
        "19. Write a program that handles both IndexError and KeyError using a try-except block.\n",
        "\n",
        "\n",
        "Answer:"
      ],
      "metadata": {
        "id": "THH_nXo8UjbZ"
      }
    },
    {
      "cell_type": "code",
      "source": [
        "my_list = [1, 2, 3]\n",
        "my_dict = {\"name\": \"Arifa\"}\n",
        "\n",
        "try:\n",
        "    print(my_list[5])\n",
        "    print(my_dict[\"age\"])\n",
        "except IndexError:\n",
        "    print(\"IndexError: List index out of range\")\n",
        "except KeyError:\n",
        "    print(\"KeyError: Dictionary key not found\")\n"
      ],
      "metadata": {
        "id": "-RJAZJfjUlXa"
      },
      "execution_count": null,
      "outputs": []
    },
    {
      "cell_type": "markdown",
      "source": [
        "20. How would you open a file and read its contents using a context manager in Python?\n",
        "\n",
        "\n",
        "Answer:\n",
        "Use the with statement to manage the file automatically.\n",
        "\n",
        "\n",
        "Example:"
      ],
      "metadata": {
        "id": "df9sG3IlU6eC"
      }
    },
    {
      "cell_type": "code",
      "source": [
        "with open(\"example.txt\", \"r\") as file:\n",
        "    content = file.read()\n",
        "    print(content)\n"
      ],
      "metadata": {
        "id": "m4vCP6U6U_6z"
      },
      "execution_count": null,
      "outputs": []
    },
    {
      "cell_type": "markdown",
      "source": [
        "21. Write a Python program that reads a file and prints the number of occurrences of a specific word.\n",
        "\n",
        "\n",
        "Answer:"
      ],
      "metadata": {
        "id": "TtdiCdo5VEkI"
      }
    },
    {
      "cell_type": "code",
      "source": [
        "word_to_count = \"python\"\n",
        "\n",
        "with open(\"sample.txt\", \"r\") as file:\n",
        "    content = file.read().lower()\n",
        "    count = content.count(word_to_count.lower())\n",
        "    print(f\"The word '{word_to_count}' appears {count} times.\")\n"
      ],
      "metadata": {
        "id": "VpYjwgp9VLXL"
      },
      "execution_count": null,
      "outputs": []
    },
    {
      "cell_type": "markdown",
      "source": [
        "22. How can you check if a file is empty before attempting to read its contents?\n",
        "\n",
        "\n",
        "Answer:\n",
        "You can check the file size using os.stat() or os.path.getsize().\n",
        "\n",
        "\n",
        "Example:"
      ],
      "metadata": {
        "id": "rHG4zpkIVRhg"
      }
    },
    {
      "cell_type": "code",
      "source": [
        "import os\n",
        "\n",
        "if os.path.getsize(\"sample.txt\") == 0:\n",
        "    print(\"The file is empty.\")\n",
        "else:\n",
        "    with open(\"sample.txt\", \"r\") as file:\n",
        "        print(file.read())\n"
      ],
      "metadata": {
        "id": "cZZdxmZVVWfb"
      },
      "execution_count": null,
      "outputs": []
    },
    {
      "cell_type": "markdown",
      "source": [
        "23. Write a Python program that writes to a log file when an error occurs during file handling.\n",
        "\n",
        "\n",
        "Answer:"
      ],
      "metadata": {
        "id": "kbjfBMU4VaJR"
      }
    },
    {
      "cell_type": "code",
      "source": [
        "import logging\n",
        "logging.basicConfig(filename=\"file_errors.log\", level=logging.ERROR)\n",
        "\n",
        "try:\n",
        "    with open(\"nonexistent.txt\", \"r\") as file:\n",
        "        data = file.read()\n",
        "except FileNotFoundError as e:\n",
        "    logging.error(f\"Error opening file: {e}\")\n"
      ],
      "metadata": {
        "id": "xpLQSHpDVfWW"
      },
      "execution_count": null,
      "outputs": []
    },
    {
      "cell_type": "markdown",
      "source": [],
      "metadata": {
        "id": "O6cjbFsuVR-e"
      }
    }
  ]
}